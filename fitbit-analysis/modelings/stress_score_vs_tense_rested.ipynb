{
 "cells": [
  {
   "cell_type": "code",
   "execution_count": 12,
   "metadata": {},
   "outputs": [
    {
     "name": "stdout",
     "output_type": "stream",
     "text": [
      "Tense avg: 76.65536723163842\n",
      "Rested avg: 76.2439024390244\n"
     ]
    }
   ],
   "source": [
    "import pandas as pd\n",
    "# from utils import weekFromDate\n",
    "\n",
    "# Day file\n",
    "df = pd.read_csv('../dataset/day.csv')\n",
    "\n",
    "#Filter missing stress scores and people who didn't report either tense or rested\n",
    "df = df.dropna(subset=['stress_score'])\n",
    "df = df[ df['stress_score'] > 15 ] #Outlier\n",
    "\n",
    "# Separate into tense and rested groups and count average\n",
    "tense = df[ ( df['TENSE/ANXIOUS'] == 1 ) & ( df['RESTED/RELAXED'] != 1 ) ]\n",
    "print( 'Tense avg: ' + str(tense['stress_score'].mean()) )\n",
    "rested = df[ ( df['RESTED/RELAXED'] == 1 ) & ( df['TENSE/ANXIOUS'] != 1 ) ]\n",
    "print( 'Rested avg: ' + str(rested['stress_score'].mean()) )"
   ]
  }
 ],
 "metadata": {
  "kernelspec": {
   "display_name": "base",
   "language": "python",
   "name": "python3"
  },
  "language_info": {
   "codemirror_mode": {
    "name": "ipython",
    "version": 3
   },
   "file_extension": ".py",
   "mimetype": "text/x-python",
   "name": "python",
   "nbconvert_exporter": "python",
   "pygments_lexer": "ipython3",
   "version": "3.11.4"
  },
  "orig_nbformat": 4
 },
 "nbformat": 4,
 "nbformat_minor": 2
}
